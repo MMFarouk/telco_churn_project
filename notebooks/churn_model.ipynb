{
 "cells": [
  {
   "cell_type": "markdown",
   "id": "6baefa0f29c5748b",
   "metadata": {},
   "source": [
    "# Telco Churn — Simple End-to-End ML Notebook\n",
    "\n",
    "**Goal:** prepare clean data, try a few classic models, pick the best, and save artifacts\n",
    "for an API (feature list, scaler, model).\n",
    "\n",
    "**Notes**\n",
    "- Business rule: if tenure == 0 AND Total_Charges is missing => set Total_Charges = 0 for those rows.\n"
   ]
  },
  {
   "cell_type": "code",
   "execution_count": null,
   "id": "f8a41f06ccea858a",
   "metadata": {
    "ExecuteTime": {
     "end_time": "2025-08-30T16:46:55.410224Z",
     "start_time": "2025-08-30T16:46:47.017091Z"
    }
   },
   "outputs": [],
   "source": [
    "# Imports & paths\n",
    "import pandas as pd\n",
    "import numpy as np\n",
    "import json, joblib\n",
    "from pathlib import Path\n",
    "import matplotlib.pyplot as plt\n",
    "\n",
    "from sklearn.model_selection import train_test_split\n",
    "from sklearn.preprocessing import StandardScaler\n",
    "from sklearn.metrics import (\n",
    "    roc_auc_score, average_precision_score, accuracy_score, f1_score, classification_report\n",
    ")\n",
    "from sklearn.linear_model import LogisticRegression\n",
    "from sklearn.ensemble import RandomForestClassifier, GradientBoostingClassifier\n",
    "from sklearn.svm import SVC\n",
    "from sklearn.neighbors import KNeighborsClassifier\n",
    "\n",
    "# Paths\n",
    "DATA_PATH = Path(r\"C:\\Users\\mfarouk\\Desktop\\telco_churn_project\\data\\WA_Fn-UseC_-Telco-Customer-Churn.csv\")\n",
    "ARTIFACT_DIR = Path(r\"C:\\Users\\mfarouk\\Desktop\\telco_churn_project\\app\\model\")\n",
    "FEATURES_PATH = ARTIFACT_DIR / \"features.json\"\n",
    "SCALER_PATH = ARTIFACT_DIR / \"scaler.pkl\"\n",
    "MODEL_PATH = ARTIFACT_DIR / \"churn_model.pkl\"\n"
   ]
  },
  {
   "cell_type": "markdown",
   "id": "3ea842ee82a9e4cb",
   "metadata": {},
   "source": [
    "## 1) Load the data"
   ]
  },
  {
   "cell_type": "code",
   "execution_count": 2,
   "id": "848aac4dc85e065b",
   "metadata": {
    "ExecuteTime": {
     "end_time": "2025-08-30T16:46:55.487408Z",
     "start_time": "2025-08-30T16:46:55.422758Z"
    }
   },
   "outputs": [
    {
     "name": "stdout",
     "output_type": "stream",
     "text": [
      "Raw shape: (7043, 21)\n"
     ]
    },
    {
     "data": {
      "text/html": [
       "<div>\n",
       "<style scoped>\n",
       "    .dataframe tbody tr th:only-of-type {\n",
       "        vertical-align: middle;\n",
       "    }\n",
       "\n",
       "    .dataframe tbody tr th {\n",
       "        vertical-align: top;\n",
       "    }\n",
       "\n",
       "    .dataframe thead th {\n",
       "        text-align: right;\n",
       "    }\n",
       "</style>\n",
       "<table border=\"1\" class=\"dataframe\">\n",
       "  <thead>\n",
       "    <tr style=\"text-align: right;\">\n",
       "      <th></th>\n",
       "      <th>customerID</th>\n",
       "      <th>gender</th>\n",
       "      <th>Senior_Citizen</th>\n",
       "      <th>Is_Married</th>\n",
       "      <th>Dependents</th>\n",
       "      <th>tenure</th>\n",
       "      <th>Phone_Service</th>\n",
       "      <th>Dual</th>\n",
       "      <th>Internet_Service</th>\n",
       "      <th>Online_Security</th>\n",
       "      <th>...</th>\n",
       "      <th>Device_Protection</th>\n",
       "      <th>Tech_Support</th>\n",
       "      <th>Streaming_TV</th>\n",
       "      <th>Streaming_Movies</th>\n",
       "      <th>Contract</th>\n",
       "      <th>Paperless_Billing</th>\n",
       "      <th>Payment_Method</th>\n",
       "      <th>Monthly_Charges</th>\n",
       "      <th>Total_Charges</th>\n",
       "      <th>Churn</th>\n",
       "    </tr>\n",
       "  </thead>\n",
       "  <tbody>\n",
       "    <tr>\n",
       "      <th>0</th>\n",
       "      <td>7590-VHVEG</td>\n",
       "      <td>Female</td>\n",
       "      <td>0</td>\n",
       "      <td>Yes</td>\n",
       "      <td>No</td>\n",
       "      <td>1</td>\n",
       "      <td>No</td>\n",
       "      <td>No phone service</td>\n",
       "      <td>DSL</td>\n",
       "      <td>No</td>\n",
       "      <td>...</td>\n",
       "      <td>No</td>\n",
       "      <td>No</td>\n",
       "      <td>No</td>\n",
       "      <td>No</td>\n",
       "      <td>Month-to-month</td>\n",
       "      <td>Yes</td>\n",
       "      <td>Electronic check</td>\n",
       "      <td>29.85</td>\n",
       "      <td>29.85</td>\n",
       "      <td>No</td>\n",
       "    </tr>\n",
       "    <tr>\n",
       "      <th>1</th>\n",
       "      <td>5575-GNVDE</td>\n",
       "      <td>Male</td>\n",
       "      <td>0</td>\n",
       "      <td>No</td>\n",
       "      <td>No</td>\n",
       "      <td>34</td>\n",
       "      <td>Yes</td>\n",
       "      <td>No</td>\n",
       "      <td>DSL</td>\n",
       "      <td>Yes</td>\n",
       "      <td>...</td>\n",
       "      <td>Yes</td>\n",
       "      <td>No</td>\n",
       "      <td>No</td>\n",
       "      <td>No</td>\n",
       "      <td>One year</td>\n",
       "      <td>No</td>\n",
       "      <td>Mailed check</td>\n",
       "      <td>56.95</td>\n",
       "      <td>1889.5</td>\n",
       "      <td>No</td>\n",
       "    </tr>\n",
       "    <tr>\n",
       "      <th>2</th>\n",
       "      <td>3668-QPYBK</td>\n",
       "      <td>Male</td>\n",
       "      <td>0</td>\n",
       "      <td>No</td>\n",
       "      <td>No</td>\n",
       "      <td>2</td>\n",
       "      <td>Yes</td>\n",
       "      <td>No</td>\n",
       "      <td>DSL</td>\n",
       "      <td>Yes</td>\n",
       "      <td>...</td>\n",
       "      <td>No</td>\n",
       "      <td>No</td>\n",
       "      <td>No</td>\n",
       "      <td>No</td>\n",
       "      <td>Month-to-month</td>\n",
       "      <td>Yes</td>\n",
       "      <td>Mailed check</td>\n",
       "      <td>53.85</td>\n",
       "      <td>108.15</td>\n",
       "      <td>Yes</td>\n",
       "    </tr>\n",
       "  </tbody>\n",
       "</table>\n",
       "<p>3 rows × 21 columns</p>\n",
       "</div>"
      ],
      "text/plain": [
       "   customerID  gender  Senior_Citizen  Is_Married Dependents  tenure  \\\n",
       "0  7590-VHVEG  Female                0        Yes         No       1   \n",
       "1  5575-GNVDE    Male                0         No         No      34   \n",
       "2  3668-QPYBK    Male                0         No         No       2   \n",
       "\n",
       "  Phone_Service              Dual Internet_Service Online_Security  ...  \\\n",
       "0            No  No phone service              DSL              No  ...   \n",
       "1           Yes                No              DSL             Yes  ...   \n",
       "2           Yes                No              DSL             Yes  ...   \n",
       "\n",
       "  Device_Protection Tech_Support Streaming_TV Streaming_Movies  \\\n",
       "0                No           No           No               No   \n",
       "1               Yes           No           No               No   \n",
       "2                No           No           No               No   \n",
       "\n",
       "         Contract Paperless_Billing    Payment_Method Monthly_Charges  \\\n",
       "0  Month-to-month               Yes  Electronic check           29.85   \n",
       "1        One year                No      Mailed check           56.95   \n",
       "2  Month-to-month               Yes      Mailed check           53.85   \n",
       "\n",
       "   Total_Charges Churn  \n",
       "0          29.85    No  \n",
       "1         1889.5    No  \n",
       "2         108.15   Yes  \n",
       "\n",
       "[3 rows x 21 columns]"
      ]
     },
     "execution_count": 2,
     "metadata": {},
     "output_type": "execute_result"
    }
   ],
   "source": [
    "df = pd.read_csv(DATA_PATH)\n",
    "print(\"Raw shape:\", df.shape)\n",
    "df.head(3)\n"
   ]
  },
  {
   "cell_type": "markdown",
   "id": "7c3450b746c03a1f",
   "metadata": {},
   "source": [
    "## 2) Normalize column names and basic cleaning\n",
    "\n",
    "We will:\n",
    "- Strip whitespace from column names.\n",
    "- Fix known casing/underscore differences:\n",
    "  - `gender` -> `Gender`\n",
    "  - `MonthlyCharges` -> `Monthly_Charges`\n",
    "  - `TotalCharges`   -> `Total_Charges`\n",
    "  - `SeniorCitizen`  -> `Senior_Citizen`\n",
    "- Ensure target `Churn` exists."
   ]
  },
  {
   "cell_type": "code",
   "execution_count": 3,
   "id": "209118b8b6aa33f0",
   "metadata": {
    "ExecuteTime": {
     "end_time": "2025-08-30T16:46:55.949425Z",
     "start_time": "2025-08-30T16:46:55.940381Z"
    }
   },
   "outputs": [
    {
     "name": "stdout",
     "output_type": "stream",
     "text": [
      "Columns: ['customerID', 'Gender', 'Senior_Citizen', 'Is_Married', 'Dependents', 'tenure', 'Phone_Service', 'Dual', 'Internet_Service', 'Online_Security', 'Online_Backup', 'Device_Protection', 'Tech_Support', 'Streaming_TV', 'Streaming_Movies', 'Contract', 'Paperless_Billing', 'Payment_Method', 'Monthly_Charges', 'Total_Charges', 'Churn']\n"
     ]
    }
   ],
   "source": [
    "# strip spaces\n",
    "df.columns = df.columns.str.strip()\n",
    "\n",
    "# rename common variants to our canonical schema\n",
    "rename_map = {\n",
    "    \"gender\": \"Gender\",\n",
    "    \"SeniorCitizen\": \"Senior_Citizen\",\n",
    "    \"MonthlyCharges\": \"Monthly_Charges\",\n",
    "    \"TotalCharges\": \"Total_Charges\",\n",
    "    \"CustomerID\": \"customerID\",\n",
    "    \"customerID\": \"customerID\",\n",
    "}\n",
    "df.rename(columns={k: v for k, v in rename_map.items() if k in df.columns}, inplace=True)\n",
    "\n",
    "assert \"Churn\" in df.columns, \"Expected 'Churn' column.\"\n",
    "\n",
    "print(\"Columns:\", list(df.columns))\n"
   ]
  },
  {
   "cell_type": "markdown",
   "id": "83ba21727e1ae588",
   "metadata": {},
   "source": [
    "## 3) Handle dtypes and **business rule** for Total_Charges\n",
    "\n",
    "- Make `Total_Charges` numeric (blanks -> NaN).\n",
    "- **Business rule**: if `tenure == 0` and `Total_Charges` is NaN, set it to 0.\n",
    "- For anything else still missing in essential numeric fields, we'll drop."
   ]
  },
  {
   "cell_type": "code",
   "execution_count": 4,
   "id": "f9b8e8ad009f9038",
   "metadata": {
    "ExecuteTime": {
     "end_time": "2025-08-30T16:46:56.006460Z",
     "start_time": "2025-08-30T16:46:55.987705Z"
    }
   },
   "outputs": [
    {
     "name": "stdout",
     "output_type": "stream",
     "text": [
      "Business rule applied to rows: 11\n",
      "Dropped rows after NA handling: 0\n"
     ]
    }
   ],
   "source": [
    "# coerce numerics\n",
    "df[\"Total_Charges\"] = pd.to_numeric(df[\"Total_Charges\"], errors=\"coerce\")\n",
    "df[\"Monthly_Charges\"] = pd.to_numeric(df[\"Monthly_Charges\"], errors=\"coerce\")\n",
    "df[\"tenure\"] = pd.to_numeric(df[\"tenure\"], errors=\"coerce\")\n",
    "df[\"Senior_Citizen\"] = pd.to_numeric(df[\"Senior_Citizen\"], errors=\"coerce\")\n",
    "\n",
    "# apply business rule\n",
    "mask_rule = (df[\"tenure\"] == 0) & (df[\"Total_Charges\"].isna())\n",
    "affected = mask_rule.sum()\n",
    "df.loc[mask_rule, \"Total_Charges\"] = 0.0\n",
    "print(f\"Business rule applied to rows: {affected}\")\n",
    "\n",
    "# drop remaining NA in essential fields (if any)\n",
    "essential = [\"tenure\", \"Monthly_Charges\", \"Total_Charges\", \"Senior_Citizen\", \"Churn\"]\n",
    "before = len(df)\n",
    "df = df.dropna(subset=essential)\n",
    "after = len(df)\n",
    "print(\"Dropped rows after NA handling:\", before - after)\n"
   ]
  },
  {
   "cell_type": "markdown",
   "id": "42c10bcb4852a3ad",
   "metadata": {},
   "source": [
    "## 4) Quick EDA\n",
    "\n",
    "- Check shapes and missing values (should be none now in essentials).\n",
    "- Look at target balance.\n",
    "- Basic numeric distributions."
   ]
  },
  {
   "cell_type": "code",
   "execution_count": 5,
   "id": "6ce6c9effa2e4920",
   "metadata": {
    "ExecuteTime": {
     "end_time": "2025-08-30T16:46:56.192690Z",
     "start_time": "2025-08-30T16:46:56.161560Z"
    }
   },
   "outputs": [
    {
     "name": "stdout",
     "output_type": "stream",
     "text": [
      "Shape: (7043, 21)\n",
      "\n",
      "Missing values per column (non-zero only):\n",
      "Series([], dtype: int64)\n",
      "\n",
      "Target distribution:\n",
      "Churn\n",
      "no     5174\n",
      "yes    1869\n",
      "Name: count, dtype: int64 \n",
      "Churn rate: 0.265\n"
     ]
    },
    {
     "data": {
      "text/html": [
       "<div>\n",
       "<style scoped>\n",
       "    .dataframe tbody tr th:only-of-type {\n",
       "        vertical-align: middle;\n",
       "    }\n",
       "\n",
       "    .dataframe tbody tr th {\n",
       "        vertical-align: top;\n",
       "    }\n",
       "\n",
       "    .dataframe thead th {\n",
       "        text-align: right;\n",
       "    }\n",
       "</style>\n",
       "<table border=\"1\" class=\"dataframe\">\n",
       "  <thead>\n",
       "    <tr style=\"text-align: right;\">\n",
       "      <th></th>\n",
       "      <th>tenure</th>\n",
       "      <th>Monthly_Charges</th>\n",
       "      <th>Total_Charges</th>\n",
       "      <th>Senior_Citizen</th>\n",
       "    </tr>\n",
       "  </thead>\n",
       "  <tbody>\n",
       "    <tr>\n",
       "      <th>count</th>\n",
       "      <td>7043.000000</td>\n",
       "      <td>7043.000000</td>\n",
       "      <td>7043.000000</td>\n",
       "      <td>7043.000000</td>\n",
       "    </tr>\n",
       "    <tr>\n",
       "      <th>mean</th>\n",
       "      <td>32.371149</td>\n",
       "      <td>64.761692</td>\n",
       "      <td>2279.734304</td>\n",
       "      <td>0.162147</td>\n",
       "    </tr>\n",
       "    <tr>\n",
       "      <th>std</th>\n",
       "      <td>24.559481</td>\n",
       "      <td>30.090047</td>\n",
       "      <td>2266.794470</td>\n",
       "      <td>0.368612</td>\n",
       "    </tr>\n",
       "    <tr>\n",
       "      <th>min</th>\n",
       "      <td>0.000000</td>\n",
       "      <td>18.250000</td>\n",
       "      <td>0.000000</td>\n",
       "      <td>0.000000</td>\n",
       "    </tr>\n",
       "    <tr>\n",
       "      <th>25%</th>\n",
       "      <td>9.000000</td>\n",
       "      <td>35.500000</td>\n",
       "      <td>398.550000</td>\n",
       "      <td>0.000000</td>\n",
       "    </tr>\n",
       "    <tr>\n",
       "      <th>50%</th>\n",
       "      <td>29.000000</td>\n",
       "      <td>70.350000</td>\n",
       "      <td>1394.550000</td>\n",
       "      <td>0.000000</td>\n",
       "    </tr>\n",
       "    <tr>\n",
       "      <th>75%</th>\n",
       "      <td>55.000000</td>\n",
       "      <td>89.850000</td>\n",
       "      <td>3786.600000</td>\n",
       "      <td>0.000000</td>\n",
       "    </tr>\n",
       "    <tr>\n",
       "      <th>max</th>\n",
       "      <td>72.000000</td>\n",
       "      <td>118.750000</td>\n",
       "      <td>8684.800000</td>\n",
       "      <td>1.000000</td>\n",
       "    </tr>\n",
       "  </tbody>\n",
       "</table>\n",
       "</div>"
      ],
      "text/plain": [
       "            tenure  Monthly_Charges  Total_Charges  Senior_Citizen\n",
       "count  7043.000000      7043.000000    7043.000000     7043.000000\n",
       "mean     32.371149        64.761692    2279.734304        0.162147\n",
       "std      24.559481        30.090047    2266.794470        0.368612\n",
       "min       0.000000        18.250000       0.000000        0.000000\n",
       "25%       9.000000        35.500000     398.550000        0.000000\n",
       "50%      29.000000        70.350000    1394.550000        0.000000\n",
       "75%      55.000000        89.850000    3786.600000        0.000000\n",
       "max      72.000000       118.750000    8684.800000        1.000000"
      ]
     },
     "execution_count": 5,
     "metadata": {},
     "output_type": "execute_result"
    }
   ],
   "source": [
    "print(\"Shape:\", df.shape)\n",
    "print(\"\\nMissing values per column (non-zero only):\")\n",
    "mv = df.isna().sum()\n",
    "print(mv[mv > 0].sort_values(ascending=False))\n",
    "\n",
    "print(\"\\nTarget distribution:\")\n",
    "vc = df[\"Churn\"].astype(str).str.strip().str.lower().value_counts()\n",
    "print(vc, \"\\nChurn rate:\", round(vc.get(\"yes\", 0) / vc.sum(), 3))\n",
    "\n",
    "# simple numeric description\n",
    "num_cols_quick = [\"tenure\", \"Monthly_Charges\", \"Total_Charges\", \"Senior_Citizen\"]\n",
    "df[num_cols_quick].describe()\n"
   ]
  },
  {
   "cell_type": "code",
   "execution_count": 6,
   "id": "4ee15ebf6bd06909",
   "metadata": {
    "ExecuteTime": {
     "end_time": "2025-08-30T16:46:56.770135Z",
     "start_time": "2025-08-30T16:46:56.284735Z"
    }
   },
   "outputs": [
    {
     "data": {
      "image/png": "[encoded data removed]",
      "text/plain": [
       "<Figure size 640x480 with 1 Axes>"
      ]
     },
     "metadata": {},
     "output_type": "display_data"
    },
    {
     "data": {
      "image/png": "[encoded data removed]",
      "text/plain": [
       "<Figure size 640x480 with 1 Axes>"
      ]
     },
     "metadata": {},
     "output_type": "display_data"
    },
    {
     "data": {
      "image/png": "[encoded data removed]",
      "text/plain": [
       "<Figure size 640x480 with 1 Axes>"
      ]
     },
     "metadata": {},
     "output_type": "display_data"
    }
   ],
   "source": [
    "# simple histograms\n",
    "for c in [\"tenure\", \"Monthly_Charges\", \"Total_Charges\"]:\n",
    "    df[c].dropna().hist(bins=30)\n",
    "    plt.title(c)\n",
    "    plt.xlabel(c)\n",
    "    plt.ylabel(\"Count\")\n",
    "    plt.show()\n"
   ]
  },
  {
   "cell_type": "markdown",
   "id": "e2cc9d40cf1a40dd",
   "metadata": {},
   "source": [
    "## 5) Prepare features and target\n",
    "\n",
    "- Drop ID (customerID).\n",
    "- Normalize target to 1/0.\n",
    "- Choose numeric and categorical columns (based on your schema).\n",
    "- Do **not** engineer extra features here; keep it minimal."
   ]
  },
  {
   "cell_type": "code",
   "execution_count": 7,
   "id": "972826b46ff5de22",
   "metadata": {
    "ExecuteTime": {
     "end_time": "2025-08-30T16:46:56.833818Z",
     "start_time": "2025-08-30T16:46:56.807925Z"
    }
   },
   "outputs": [
    {
     "data": {
      "text/html": [
       "<div>\n",
       "<style scoped>\n",
       "    .dataframe tbody tr th:only-of-type {\n",
       "        vertical-align: middle;\n",
       "    }\n",
       "\n",
       "    .dataframe tbody tr th {\n",
       "        vertical-align: top;\n",
       "    }\n",
       "\n",
       "    .dataframe thead th {\n",
       "        text-align: right;\n",
       "    }\n",
       "</style>\n",
       "<table border=\"1\" class=\"dataframe\">\n",
       "  <thead>\n",
       "    <tr style=\"text-align: right;\">\n",
       "      <th></th>\n",
       "      <th>tenure</th>\n",
       "      <th>Monthly_Charges</th>\n",
       "      <th>Total_Charges</th>\n",
       "      <th>Senior_Citizen</th>\n",
       "      <th>Gender</th>\n",
       "      <th>Is_Married</th>\n",
       "      <th>Dependents</th>\n",
       "      <th>Phone_Service</th>\n",
       "      <th>Dual</th>\n",
       "      <th>Internet_Service</th>\n",
       "      <th>Online_Security</th>\n",
       "      <th>Online_Backup</th>\n",
       "      <th>Device_Protection</th>\n",
       "      <th>Tech_Support</th>\n",
       "      <th>Streaming_TV</th>\n",
       "      <th>Streaming_Movies</th>\n",
       "      <th>Contract</th>\n",
       "      <th>Paperless_Billing</th>\n",
       "      <th>Payment_Method</th>\n",
       "    </tr>\n",
       "  </thead>\n",
       "  <tbody>\n",
       "    <tr>\n",
       "      <th>0</th>\n",
       "      <td>1</td>\n",
       "      <td>29.85</td>\n",
       "      <td>29.85</td>\n",
       "      <td>0</td>\n",
       "      <td>Female</td>\n",
       "      <td>Yes</td>\n",
       "      <td>No</td>\n",
       "      <td>No</td>\n",
       "      <td>No phone service</td>\n",
       "      <td>DSL</td>\n",
       "      <td>No</td>\n",
       "      <td>Yes</td>\n",
       "      <td>No</td>\n",
       "      <td>No</td>\n",
       "      <td>No</td>\n",
       "      <td>No</td>\n",
       "      <td>Month-to-month</td>\n",
       "      <td>Yes</td>\n",
       "      <td>Electronic check</td>\n",
       "    </tr>\n",
       "    <tr>\n",
       "      <th>1</th>\n",
       "      <td>34</td>\n",
       "      <td>56.95</td>\n",
       "      <td>1889.50</td>\n",
       "      <td>0</td>\n",
       "      <td>Male</td>\n",
       "      <td>No</td>\n",
       "      <td>No</td>\n",
       "      <td>Yes</td>\n",
       "      <td>No</td>\n",
       "      <td>DSL</td>\n",
       "      <td>Yes</td>\n",
       "      <td>No</td>\n",
       "      <td>Yes</td>\n",
       "      <td>No</td>\n",
       "      <td>No</td>\n",
       "      <td>No</td>\n",
       "      <td>One year</td>\n",
       "      <td>No</td>\n",
       "      <td>Mailed check</td>\n",
       "    </tr>\n",
       "    <tr>\n",
       "      <th>2</th>\n",
       "      <td>2</td>\n",
       "      <td>53.85</td>\n",
       "      <td>108.15</td>\n",
       "      <td>0</td>\n",
       "      <td>Male</td>\n",
       "      <td>No</td>\n",
       "      <td>No</td>\n",
       "      <td>Yes</td>\n",
       "      <td>No</td>\n",
       "      <td>DSL</td>\n",
       "      <td>Yes</td>\n",
       "      <td>Yes</td>\n",
       "      <td>No</td>\n",
       "      <td>No</td>\n",
       "      <td>No</td>\n",
       "      <td>No</td>\n",
       "      <td>Month-to-month</td>\n",
       "      <td>Yes</td>\n",
       "      <td>Mailed check</td>\n",
       "    </tr>\n",
       "  </tbody>\n",
       "</table>\n",
       "</div>"
      ],
      "text/plain": [
       "   tenure  Monthly_Charges  Total_Charges  Senior_Citizen  Gender Is_Married  \\\n",
       "0       1            29.85          29.85               0  Female        Yes   \n",
       "1      34            56.95        1889.50               0    Male         No   \n",
       "2       2            53.85         108.15               0    Male         No   \n",
       "\n",
       "  Dependents Phone_Service              Dual Internet_Service Online_Security  \\\n",
       "0         No            No  No phone service              DSL              No   \n",
       "1         No           Yes                No              DSL             Yes   \n",
       "2         No           Yes                No              DSL             Yes   \n",
       "\n",
       "  Online_Backup Device_Protection Tech_Support Streaming_TV Streaming_Movies  \\\n",
       "0           Yes                No           No           No               No   \n",
       "1            No               Yes           No           No               No   \n",
       "2           Yes                No           No           No               No   \n",
       "\n",
       "         Contract Paperless_Billing    Payment_Method  \n",
       "0  Month-to-month               Yes  Electronic check  \n",
       "1        One year                No      Mailed check  \n",
       "2  Month-to-month               Yes      Mailed check  "
      ]
     },
     "execution_count": 7,
     "metadata": {},
     "output_type": "execute_result"
    }
   ],
   "source": [
    "# drop ID-like column if present\n",
    "if \"customerID\" in df.columns:\n",
    "    df = df.drop(columns=[\"customerID\"])\n",
    "\n",
    "# target as 1/0\n",
    "y = (df[\"Churn\"].astype(str).str.strip().str.lower() == \"yes\").astype(int)\n",
    "\n",
    "# choose columns\n",
    "numeric_cols = [\"tenure\", \"Monthly_Charges\", \"Total_Charges\", \"Senior_Citizen\"]\n",
    "categorical_cols = [\n",
    "    \"Gender\", \"Is_Married\", \"Dependents\", \"Phone_Service\", \"Dual\",\n",
    "    \"Internet_Service\", \"Online_Security\", \"Online_Backup\",\n",
    "    \"Device_Protection\", \"Tech_Support\", \"Streaming_TV\", \"Streaming_Movies\",\n",
    "    \"Contract\", \"Paperless_Billing\", \"Payment_Method\"\n",
    "]\n",
    "\n",
    "# ensure they exist\n",
    "missing_in_schema = [c for c in numeric_cols + categorical_cols if c not in df.columns]\n",
    "if missing_in_schema:\n",
    "    raise ValueError(f\"Missing columns in data: {missing_in_schema}\")\n",
    "\n",
    "X = df[numeric_cols + categorical_cols].copy()\n",
    "X.head(3)\n"
   ]
  },
  {
   "cell_type": "markdown",
   "id": "8cfe01d0a66752d7",
   "metadata": {},
   "source": [
    "## 6) Train / validation split"
   ]
  },
  {
   "cell_type": "code",
   "execution_count": 8,
   "id": "41e5b459aef8e315",
   "metadata": {
    "ExecuteTime": {
     "end_time": "2025-08-30T16:46:56.921572Z",
     "start_time": "2025-08-30T16:46:56.907998Z"
    }
   },
   "outputs": [
    {
     "data": {
      "text/plain": [
       "((5634, 19), (1409, 19))"
      ]
     },
     "execution_count": 8,
     "metadata": {},
     "output_type": "execute_result"
    }
   ],
   "source": [
    "X_train, X_valid, y_train, y_valid = train_test_split(\n",
    "    X, y, test_size=0.2, random_state=42, stratify=y\n",
    ")\n",
    "X_train.shape, X_valid.shape\n"
   ]
  },
  {
   "cell_type": "markdown",
   "id": "7bec5e87364fc97e",
   "metadata": {},
   "source": [
    "## 7) One-hot encode categoricals and **save feature list**\n",
    "\n",
    "We use `pd.get_dummies(drop_first=True)`.\n",
    "We save the **exact** column order to `features.json` — as I will use this later in the API."
   ]
  },
  {
   "cell_type": "code",
   "execution_count": 9,
   "id": "e44de79c72ad1d9d",
   "metadata": {
    "ExecuteTime": {
     "end_time": "2025-08-30T16:46:57.037712Z",
     "start_time": "2025-08-30T16:46:57.002527Z"
    }
   },
   "outputs": [
    {
     "name": "stdout",
     "output_type": "stream",
     "text": [
      "Saved features to: C:\\Users\\mfarouk\\Desktop\\telco_churn_project\\app\\model\\features.json\n"
     ]
    }
   ],
   "source": [
    "# one-hot on train\n",
    "X_train_cat = pd.get_dummies(X_train[categorical_cols], drop_first=True)\n",
    "X_train_num = X_train[numeric_cols].copy()\n",
    "X_train_enc = pd.concat([X_train_num, X_train_cat], axis=1)\n",
    "\n",
    "# one-hot on valid and align to train columns\n",
    "X_valid_cat = pd.get_dummies(X_valid[categorical_cols], drop_first=True)\n",
    "X_valid_num = X_valid[numeric_cols].copy()\n",
    "X_valid_enc = pd.concat([X_valid_num, X_valid_cat], axis=1).reindex(columns=X_train_enc.columns, fill_value=0)\n",
    "\n",
    "# save features list\n",
    "FEATURES = list(X_train_enc.columns)\n",
    "with open(FEATURES_PATH, \"w\") as f:\n",
    "    json.dump(FEATURES, f)\n",
    "print(\"Saved features to:\", FEATURES_PATH)\n"
   ]
  },
  {
   "cell_type": "markdown",
   "id": "1bc679460fffd4f6",
   "metadata": {},
   "source": [
    "## 8) Scale features and **save scaler**\n",
    "\n",
    "scale **all** encoded features for simplicity."
   ]
  },
  {
   "cell_type": "code",
   "execution_count": 10,
   "id": "4acc8ca0b39f9ba3",
   "metadata": {
    "ExecuteTime": {
     "end_time": "2025-08-30T16:46:57.145139Z",
     "start_time": "2025-08-30T16:46:57.122540Z"
    }
   },
   "outputs": [
    {
     "name": "stdout",
     "output_type": "stream",
     "text": [
      "Saved scaler to: C:\\Users\\mfarouk\\Desktop\\telco_churn_project\\app\\model\\scaler.pkl\n"
     ]
    }
   ],
   "source": [
    "scaler = StandardScaler()\n",
    "scaler.fit(X_train_enc)\n",
    "\n",
    "X_train_scaled = scaler.transform(X_train_enc)\n",
    "X_valid_scaled = scaler.transform(X_valid_enc)\n",
    "\n",
    "joblib.dump(scaler, SCALER_PATH)\n",
    "print(\"Saved scaler to:\", SCALER_PATH)\n"
   ]
  },
  {
   "cell_type": "markdown",
   "id": "1c47cf8da177f481",
   "metadata": {},
   "source": [
    "## 9) Train multiple simple models\n",
    "\n",
    "We will train 5 models:\n",
    "- Logistic Regression\n",
    "- Random Forest\n",
    "- Gradient Boosting\n",
    "- SVC (with probability=True)\n",
    "- KNN\n",
    "\n",
    "We will compare them by ROC-AUC (primary), then PR-AUC as tie-breaker."
   ]
  },
  {
   "cell_type": "code",
   "execution_count": 11,
   "id": "aa8c79aa5010839b",
   "metadata": {
    "ExecuteTime": {
     "end_time": "2025-08-30T16:47:08.885212Z",
     "start_time": "2025-08-30T16:46:57.216173Z"
    }
   },
   "outputs": [
    {
     "name": "stdout",
     "output_type": "stream",
     "text": [
      "\n",
      "=== LogReg ===\n",
      "ROC-AUC: 0.8418 | PR-AUC: 0.6324 | Acc: 0.807 | F1: 0.6092\n",
      "\n",
      "=== RandomForest ===\n",
      "ROC-AUC: 0.8283 | PR-AUC: 0.6254 | Acc: 0.7885 | F1: 0.5526\n",
      "\n",
      "=== GradBoost ===\n",
      "ROC-AUC: 0.8415 | PR-AUC: 0.6518 | Acc: 0.7977 | F1: 0.5701\n",
      "\n",
      "=== SVC ===\n",
      "ROC-AUC: 0.7961 | PR-AUC: 0.6142 | Acc: 0.7935 | F1: 0.5344\n",
      "\n",
      "=== KNN ===\n",
      "ROC-AUC: 0.8082 | PR-AUC: 0.5759 | Acc: 0.77 | F1: 0.5537\n"
     ]
    },
    {
     "data": {
      "text/html": [
       "<div>\n",
       "<style scoped>\n",
       "    .dataframe tbody tr th:only-of-type {\n",
       "        vertical-align: middle;\n",
       "    }\n",
       "\n",
       "    .dataframe tbody tr th {\n",
       "        vertical-align: top;\n",
       "    }\n",
       "\n",
       "    .dataframe thead th {\n",
       "        text-align: right;\n",
       "    }\n",
       "</style>\n",
       "<table border=\"1\" class=\"dataframe\">\n",
       "  <thead>\n",
       "    <tr style=\"text-align: right;\">\n",
       "      <th></th>\n",
       "      <th>model</th>\n",
       "      <th>ROC_AUC</th>\n",
       "      <th>PR_AUC</th>\n",
       "      <th>Accuracy</th>\n",
       "      <th>F1</th>\n",
       "    </tr>\n",
       "  </thead>\n",
       "  <tbody>\n",
       "    <tr>\n",
       "      <th>0</th>\n",
       "      <td>LogReg</td>\n",
       "      <td>0.841778</td>\n",
       "      <td>0.632372</td>\n",
       "      <td>0.806955</td>\n",
       "      <td>0.609195</td>\n",
       "    </tr>\n",
       "    <tr>\n",
       "      <th>1</th>\n",
       "      <td>GradBoost</td>\n",
       "      <td>0.841517</td>\n",
       "      <td>0.651815</td>\n",
       "      <td>0.797729</td>\n",
       "      <td>0.570136</td>\n",
       "    </tr>\n",
       "    <tr>\n",
       "      <th>2</th>\n",
       "      <td>RandomForest</td>\n",
       "      <td>0.828285</td>\n",
       "      <td>0.625437</td>\n",
       "      <td>0.788502</td>\n",
       "      <td>0.552553</td>\n",
       "    </tr>\n",
       "    <tr>\n",
       "      <th>3</th>\n",
       "      <td>KNN</td>\n",
       "      <td>0.808174</td>\n",
       "      <td>0.575940</td>\n",
       "      <td>0.770050</td>\n",
       "      <td>0.553719</td>\n",
       "    </tr>\n",
       "    <tr>\n",
       "      <th>4</th>\n",
       "      <td>SVC</td>\n",
       "      <td>0.796125</td>\n",
       "      <td>0.614186</td>\n",
       "      <td>0.793471</td>\n",
       "      <td>0.534400</td>\n",
       "    </tr>\n",
       "  </tbody>\n",
       "</table>\n",
       "</div>"
      ],
      "text/plain": [
       "          model   ROC_AUC    PR_AUC  Accuracy        F1\n",
       "0        LogReg  0.841778  0.632372  0.806955  0.609195\n",
       "1     GradBoost  0.841517  0.651815  0.797729  0.570136\n",
       "2  RandomForest  0.828285  0.625437  0.788502  0.552553\n",
       "3           KNN  0.808174  0.575940  0.770050  0.553719\n",
       "4           SVC  0.796125  0.614186  0.793471  0.534400"
      ]
     },
     "execution_count": 11,
     "metadata": {},
     "output_type": "execute_result"
    }
   ],
   "source": [
    "models = {\n",
    "    \"LogReg\": LogisticRegression(max_iter=2000),\n",
    "    \"RandomForest\": RandomForestClassifier(n_estimators=400, random_state=42),\n",
    "    \"GradBoost\": GradientBoostingClassifier(random_state=42),\n",
    "    \"SVC\": SVC(probability=True, kernel=\"rbf\", C=1.0, gamma=\"scale\", random_state=42),\n",
    "    \"KNN\": KNeighborsClassifier(n_neighbors=15),\n",
    "}\n",
    "\n",
    "results = []\n",
    "fitted = {}\n",
    "\n",
    "for name, clf in models.items():\n",
    "    clf.fit(X_train_scaled, y_train)\n",
    "    fitted[name] = clf\n",
    "\n",
    "    proba = clf.predict_proba(X_valid_scaled)[:, 1]\n",
    "    pred = (proba >= 0.5).astype(int)\n",
    "\n",
    "    roc = roc_auc_score(y_valid, proba)\n",
    "    prauc = average_precision_score(y_valid, proba)\n",
    "    acc = accuracy_score(y_valid, pred)\n",
    "    f1 = f1_score(y_valid, pred)\n",
    "\n",
    "    results.append({\n",
    "        \"model\": name,\n",
    "        \"ROC_AUC\": roc,\n",
    "        \"PR_AUC\": prauc,\n",
    "        \"Accuracy\": acc,\n",
    "        \"F1\": f1\n",
    "    })\n",
    "\n",
    "    print(f\"\\n=== {name} ===\")\n",
    "    print(\"ROC-AUC:\", round(roc,4), \"| PR-AUC:\", round(prauc,4),\n",
    "          \"| Acc:\", round(acc,4), \"| F1:\", round(f1,4))\n",
    "\n",
    "results_df = pd.DataFrame(results).sort_values(by=[\"ROC_AUC\",\"PR_AUC\"], ascending=False).reset_index(drop=True)\n",
    "results_df\n"
   ]
  },
  {
   "cell_type": "markdown",
   "id": "cda6f86fdd817252",
   "metadata": {},
   "source": [
    "## 10) Pick best model, save it, and final validation report"
   ]
  },
  {
   "cell_type": "code",
   "execution_count": 21,
   "id": "47f30b674c2456b7",
   "metadata": {
    "ExecuteTime": {
     "end_time": "2025-08-30T10:12:10.160855Z",
     "start_time": "2025-08-30T10:12:10.136682Z"
    }
   },
   "outputs": [
    {
     "name": "stdout",
     "output_type": "stream",
     "text": [
      "Best model: LogReg\n",
      "          model   ROC_AUC    PR_AUC  Accuracy        F1\n",
      "0        LogReg  0.841778  0.632372  0.806955  0.609195\n",
      "1     GradBoost  0.841517  0.651815  0.797729  0.570136\n",
      "2  RandomForest  0.828285  0.625437  0.788502  0.552553\n",
      "3           KNN  0.808174  0.575940  0.770050  0.553719\n",
      "4           SVC  0.796125  0.614186  0.793471  0.534400\n",
      "\n",
      "Final Validation Metrics\n",
      "ROC-AUC: 0.8418\n",
      "PR-AUC : 0.6324\n",
      "\n",
      "Classification Report:\n",
      "              precision    recall  f1-score   support\n",
      "\n",
      "           0     0.8510    0.8937    0.8718      1035\n",
      "           1     0.6584    0.5668    0.6092       374\n",
      "\n",
      "    accuracy                         0.8070      1409\n",
      "   macro avg     0.7547    0.7303    0.7405      1409\n",
      "weighted avg     0.7998    0.8070    0.8021      1409\n",
      "\n",
      "\n",
      "Saved model to: C:\\Users\\mfarouk\\Desktop\\telco_churn_project\\app\\model\\churn_model.pkl\n"
     ]
    }
   ],
   "source": [
    "best_name = results_df.loc[0, \"model\"]\n",
    "best_model = fitted[best_name]\n",
    "print(\"Best model:\", best_name)\n",
    "print(results_df.head())\n",
    "\n",
    "# Final report\n",
    "val_proba = best_model.predict_proba(X_valid_scaled)[:, 1]\n",
    "val_pred = (val_proba >= 0.5).astype(int)\n",
    "\n",
    "print(\"\\nFinal Validation Metrics\")\n",
    "print(\"ROC-AUC:\", round(roc_auc_score(y_valid, val_proba), 4))\n",
    "print(\"PR-AUC :\", round(average_precision_score(y_valid, val_proba), 4))\n",
    "print(\"\\nClassification Report:\")\n",
    "print(classification_report(y_valid, val_pred, digits=4))\n",
    "\n",
    "# save best model\n",
    "joblib.dump(best_model, MODEL_PATH)\n",
    "print(\"\\nSaved model to:\", MODEL_PATH)\n"
   ]
  }
 ],
 "metadata": {
  "kernelspec": {
   "display_name": "Python 3",
   "language": "python",
   "name": "python3"
  },
  "language_info": {
   "codemirror_mode": {
    "name": "ipython",
    "version": 2
   },
   "file_extension": ".py",
   "mimetype": "text/x-python",
   "name": "python",
   "nbconvert_exporter": "python",
   "pygments_lexer": "ipython2",
   "version": "2.7.6"
  }
 },
 "nbformat": 4,
 "nbformat_minor": 5
}
